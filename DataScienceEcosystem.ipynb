{
 "cells": [
  {
   "cell_type": "markdown",
   "id": "e6eb0cdf-4429-4fb9-b538-df5a0e4f9f7e",
   "metadata": {
    "tags": []
   },
   "source": [
    "## Data Science Tools and Ecosystem"
   ]
  },
  {
   "cell_type": "markdown",
   "id": "91d693d5-5668-429e-925c-6fe164e5cbe2",
   "metadata": {},
   "source": [
    "# In this notebook, Data Science Tools and Ecosystem are summarized."
   ]
  },
  {
   "cell_type": "markdown",
   "id": "edc94e26-64fe-468a-9bbf-8516a3439c88",
   "metadata": {},
   "source": [
    "# Objectives: \n",
    "    - List of popular data science languages.\n",
    "    - List of common data science libraries.\n",
    "    - Some common open source Data Science tools.\n",
    "    - A few examples to evaluate arithmetic expressions in python.  \n",
    "    "
   ]
  },
  {
   "cell_type": "markdown",
   "id": "42c96b46-da9f-49e9-be88-95f1da8b33ff",
   "metadata": {},
   "source": [
    "# Some of the popular languages that Data Scientists use are: \n",
    "    1. Python\n",
    "    2. R programming\n",
    "    3. Julia"
   ]
  },
  {
   "cell_type": "markdown",
   "id": "27bc4a74-d07d-46e0-9d47-9106a9feb8e3",
   "metadata": {},
   "source": [
    "# Some of the commonly used libraries used by Data Scientists include: \n",
    "    1. NumPy\n",
    "    2. Panda\n",
    "    3. Matplotlib\n",
    "    4. TensorFlow\n",
    "    5. Scikitlearn\n"
   ]
  },
  {
   "cell_type": "markdown",
   "id": "e051c302-f57f-4ebe-9482-3fcd6c4e6008",
   "metadata": {},
   "source": [
    "# Table of Data Science tools\n",
    "| Data Science Tools | \n",
    "| -------------|\n",
    "| Anaconda | \n",
    "| Jupyter Lab | \n",
    "| Visual Studio code | "
   ]
  },
  {
   "cell_type": "markdown",
   "id": "32cd9dae-13dd-4117-8a6f-c02ea6bed17b",
   "metadata": {},
   "source": [
    "# Below are a few examples of evaluating arithmetic expressions in Python: \n"
   ]
  },
  {
   "cell_type": "code",
   "execution_count": 1,
   "id": "7cb3dbc9-28ce-43c1-be81-afc416c29c97",
   "metadata": {
    "tags": []
   },
   "outputs": [
    {
     "data": {
      "text/plain": [
       "17"
      ]
     },
     "execution_count": 1,
     "metadata": {},
     "output_type": "execute_result"
    }
   ],
   "source": [
    "# This a simple arithmetic expression to mutiply then add integers\n",
    "(3*4)+5"
   ]
  },
  {
   "cell_type": "code",
   "execution_count": 5,
   "id": "2fce4a1a-8897-43f4-82e1-ad0a278528f4",
   "metadata": {
    "tags": []
   },
   "outputs": [
    {
     "name": "stdin",
     "output_type": "stream",
     "text": [
      "enter number of minutes 200\n"
     ]
    },
    {
     "name": "stdout",
     "output_type": "stream",
     "text": [
      "Equivalent hours:  3.3333333333333335\n"
     ]
    }
   ],
   "source": [
    "#  This will convert 200 minutes to hours by diving by 60.\n",
    "a = int(input(\"enter number of minutes\"))\n",
    "b = a/60\n",
    "print(\"Equivalent hours: \", b)"
   ]
  },
  {
   "cell_type": "markdown",
   "id": "6b615daf-c07d-432b-869c-0e5d19db43a3",
   "metadata": {},
   "source": [
    "# Author\n",
    "Kaustubh Kamal Chaturvedi"
   ]
  },
  {
   "cell_type": "code",
   "execution_count": null,
   "id": "452ff175-310d-4ced-8da2-b129b9d091a1",
   "metadata": {},
   "outputs": [],
   "source": []
  }
 ],
 "metadata": {
  "kernelspec": {
   "display_name": "Python",
   "language": "python",
   "name": "conda-env-python-py"
  },
  "language_info": {
   "codemirror_mode": {
    "name": "ipython",
    "version": 3
   },
   "file_extension": ".py",
   "mimetype": "text/x-python",
   "name": "python",
   "nbconvert_exporter": "python",
   "pygments_lexer": "ipython3",
   "version": "3.7.12"
  }
 },
 "nbformat": 4,
 "nbformat_minor": 5
}
